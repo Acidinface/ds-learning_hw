{
 "cells": [
  {
   "cell_type": "markdown",
   "id": "d8d3b363",
   "metadata": {},
   "source": [
    "## Виконати завдання за допомогою готових формул (калькуляторів) та перевірити за допомогою відповідних розподілів (Python)."
   ]
  },
  {
   "cell_type": "code",
   "execution_count": 1,
   "id": "bd14f1dd",
   "metadata": {},
   "outputs": [],
   "source": [
    "import numpy as np\n",
    "from itertools import combinations as C\n",
    "from math import factorial"
   ]
  },
  {
   "cell_type": "markdown",
   "id": "dc95756c",
   "metadata": {},
   "source": [
    "### 1. Біноміальний розподіл.\n",
    "\n",
    "#### Під час тестування з математики студент має дати правильні відповіді на 5 запитань. Імовірність того, що він відповість правильно на одне запитання, у середньому дорівнює 0,8. Щоб скласти тест, студентові необхідно дати відповідь не менш ніж на три питання. Знайти ймовірність того, що студент складе тест."
   ]
  },
  {
   "attachments": {
    "image-2.png": {
     "image/png": "[encoded data removed]"
    }
   },
   "cell_type": "markdown",
   "id": "cd2e7913",
   "metadata": {},
   "source": [
    "![image-2.png](attachment:image-2.png)"
   ]
  },
  {
   "cell_type": "code",
   "execution_count": 2,
   "id": "13ebb83a",
   "metadata": {},
   "outputs": [],
   "source": [
    "def bin_dist_p(p:float, n:int, k:int)->float:\n",
    "    '''Returns probability of binomial distribution'''\n",
    "    return len(list(C(range(n), k)))*(p**k)*(1-p)**(n-k)"
   ]
  },
  {
   "cell_type": "code",
   "execution_count": 3,
   "id": "5f7bdb65",
   "metadata": {},
   "outputs": [
    {
     "data": {
      "text/plain": [
       "0.20479999999999993"
      ]
     },
     "execution_count": 3,
     "metadata": {},
     "output_type": "execute_result"
    }
   ],
   "source": [
    "bin_dist_p(0.8, 5, 3)"
   ]
  },
  {
   "cell_type": "markdown",
   "id": "dce0829c",
   "metadata": {},
   "source": [
    "### 2. Пуассонівський розподіл\n",
    "#### На АЗС за кожну хвилину надходять у середньому два автомобілі для заправлення пальним. Яка ймовірність того, що за 3 хв на АЗС для заправлення надійде: \n",
    "1) один автомобіль; \n",
    "2) не більш як три автомобілі?"
   ]
  },
  {
   "attachments": {
    "image.png": {
     "image/png": "[encoded data removed]"
    }
   },
   "cell_type": "markdown",
   "id": "22fbfad3",
   "metadata": {},
   "source": [
    "![image.png](attachment:image.png)"
   ]
  },
  {
   "cell_type": "code",
   "execution_count": 4,
   "id": "c4ee646e",
   "metadata": {},
   "outputs": [],
   "source": [
    "def lmbd(averedge_val:int, time_it_happened:int)->float:\n",
    "    '''Returns lambda value'''\n",
    "    return averedge_val*time_it_happened\n",
    "\n",
    "def pua_dist_p(lam:int, k:int):\n",
    "    '''Returns probability of Puason distribution'''\n",
    "    return ((lam**k)/factorial(k))*np.exp(-lam)"
   ]
  },
  {
   "cell_type": "markdown",
   "id": "acd9b3ec",
   "metadata": {},
   "source": [
    "1) один автомобіль"
   ]
  },
  {
   "cell_type": "code",
   "execution_count": 5,
   "id": "6e4fe4cb",
   "metadata": {},
   "outputs": [],
   "source": [
    "lmd = lmbd(2, 3)"
   ]
  },
  {
   "cell_type": "code",
   "execution_count": 6,
   "id": "e49f33da",
   "metadata": {},
   "outputs": [
    {
     "data": {
      "text/plain": [
       "0.014872513059998151"
      ]
     },
     "execution_count": 6,
     "metadata": {},
     "output_type": "execute_result"
    }
   ],
   "source": [
    "pua_dist_p(lmd, 1)"
   ]
  },
  {
   "cell_type": "markdown",
   "id": "4db5f9ba",
   "metadata": {},
   "source": [
    "2) не більш як три авто"
   ]
  },
  {
   "cell_type": "code",
   "execution_count": 7,
   "id": "35a08d2d",
   "metadata": {},
   "outputs": [
    {
     "data": {
      "text/plain": [
       "0.06196880441665896"
      ]
     },
     "execution_count": 7,
     "metadata": {},
     "output_type": "execute_result"
    }
   ],
   "source": [
    "sum([pua_dist_p(lmd, p) for p in range(3)])"
   ]
  },
  {
   "cell_type": "markdown",
   "id": "affecb76",
   "metadata": {},
   "source": [
    "### 3. Нормальний закон розподілу. \n",
    "#### Заряд мисливського пороху зважують на терезах, що мають стандартне відхилення зважування 0,5 г. Середня маса порохового заряду 4,5 г. Визначити ймовірність пошкодження мисливської рушниці при пострілі, якщо максимально допустима вага порохового заряду 4,9 г. Тобто, знайдіть ймовірність того, що випадково взятий пороховий заряд буде важити більше 4,9 г."
   ]
  },
  {
   "attachments": {
    "image.png": {
     "image/png": "[encoded data removed]"
    }
   },
   "cell_type": "markdown",
   "id": "00dfac8a",
   "metadata": {},
   "source": [
    "![image.png](attachment:image.png)"
   ]
  },
  {
   "cell_type": "code",
   "execution_count": 8,
   "id": "b0e683a1",
   "metadata": {},
   "outputs": [],
   "source": [
    "def norm_dist_p(x:int, mu:int, st:int)->float:\n",
    "    '''Returns probability of Puason distribution'''\n",
    "    return (1/(st*np.sqrt(2*np.pi)))*np.exp(-((x-mu)**2)/2*(st**2))"
   ]
  },
  {
   "cell_type": "code",
   "execution_count": 9,
   "id": "58ed6e3b",
   "metadata": {},
   "outputs": [
    {
     "data": {
      "text/plain": [
       "0.7820853879509118"
      ]
     },
     "execution_count": 9,
     "metadata": {},
     "output_type": "execute_result"
    }
   ],
   "source": [
    "norm_dist_p(4.9, 4.5, 0.5)"
   ]
  },
  {
   "cell_type": "markdown",
   "id": "7c41f8b7",
   "metadata": {},
   "source": [
    "### 4. Рівномірний розподіл. Випадкова величина має рівномірний розподіл на відрізку [0; 80]. \n",
    "#### Знайти ймовірність того, що 30 < X < 60."
   ]
  },
  {
   "cell_type": "code",
   "execution_count": 10,
   "id": "72f0e9f3",
   "metadata": {},
   "outputs": [],
   "source": [
    "def des_p(m:tuple, n:tuple)->float:\n",
    "    '''Returns probability of descrete distribution'''\n",
    "    return len(range(m[1]-m[0]))/len(range(n[1]-n[0]))"
   ]
  },
  {
   "cell_type": "code",
   "execution_count": 11,
   "id": "2f9b3685",
   "metadata": {},
   "outputs": [
    {
     "data": {
      "text/plain": [
       "0.375"
      ]
     },
     "execution_count": 11,
     "metadata": {},
     "output_type": "execute_result"
    }
   ],
   "source": [
    "des_p((30, 60),(0, 80))"
   ]
  }
 ],
 "metadata": {
  "kernelspec": {
   "display_name": "Python 3 (ipykernel)",
   "language": "python",
   "name": "python3"
  },
  "language_info": {
   "codemirror_mode": {
    "name": "ipython",
    "version": 3
   },
   "file_extension": ".py",
   "mimetype": "text/x-python",
   "name": "python",
   "nbconvert_exporter": "python",
   "pygments_lexer": "ipython3",
   "version": "3.9.7"
  }
 },
 "nbformat": 4,
 "nbformat_minor": 5
}
