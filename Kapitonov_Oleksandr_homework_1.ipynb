{
 "cells": [
  {
   "cell_type": "markdown",
   "id": "05c97db2",
   "metadata": {},
   "source": [
    "### 1. Перевірити чи рік є високосний для даного формату змінної (тобто, дата буде подаватися наступного формату)"
   ]
  },
  {
   "cell_type": "markdown",
   "id": "63d55754",
   "metadata": {},
   "source": [
    "`input_date = '2019-05-23'`"
   ]
  },
  {
   "cell_type": "code",
   "execution_count": null,
   "id": "98e59815",
   "metadata": {},
   "outputs": [],
   "source": [
    "def check_leap_year(date:str) -> bool:\n",
    "    '''Function recieves a date and returns True or False\n",
    "       depending on if it's a leap year or not.'''\n",
    "    year = int(date[:4])  \n",
    "    return True if year%4==0 and not year%100==0 or year%400==0 else False"
   ]
  },
  {
   "cell_type": "markdown",
   "id": "5cb7a0f4",
   "metadata": {},
   "source": [
    "#### Test:"
   ]
  },
  {
   "cell_type": "code",
   "execution_count": null,
   "id": "bf0fb124",
   "metadata": {},
   "outputs": [],
   "source": [
    "check_leap_year('2019-05-23')"
   ]
  },
  {
   "cell_type": "code",
   "execution_count": null,
   "id": "b3cebb30",
   "metadata": {},
   "outputs": [],
   "source": [
    "check_leap_year('2100-05-23')"
   ]
  },
  {
   "cell_type": "code",
   "execution_count": null,
   "id": "c5e519f7",
   "metadata": {},
   "outputs": [],
   "source": [
    "check_leap_year('2004-05-23')"
   ]
  },
  {
   "cell_type": "code",
   "execution_count": null,
   "id": "58de9bbd",
   "metadata": {},
   "outputs": [],
   "source": [
    "check_leap_year('2400-05-23')"
   ]
  },
  {
   "cell_type": "markdown",
   "id": "b2f81ea9",
   "metadata": {},
   "source": [
    "### 2. Вивести на екран всі числа, які більші за середнє значення списка"
   ]
  },
  {
   "cell_type": "markdown",
   "id": "adcc8851",
   "metadata": {},
   "source": [
    "`input_list = [1, 6, 13, 76, 44, 56, 12, 13, 7, 8, 9]`"
   ]
  },
  {
   "cell_type": "code",
   "execution_count": null,
   "id": "78c683c0",
   "metadata": {},
   "outputs": [],
   "source": [
    "def greater_than_mean(nums:list) -> list:\n",
    "    '''Function recieves a list of numbers and\n",
    "       returns a list of numbers bigger than the mean.'''\n",
    "    mean = sum(nums)/len(nums)\n",
    "    result = list(filter(lambda x: x > mean, nums))\n",
    "    return result"
   ]
  },
  {
   "cell_type": "markdown",
   "id": "35234d81",
   "metadata": {},
   "source": [
    "#### Test:"
   ]
  },
  {
   "cell_type": "code",
   "execution_count": null,
   "id": "70be3166",
   "metadata": {},
   "outputs": [],
   "source": [
    "greater_than_mean([1, 6, 13, 76, 44, 56, 12, 13, 7, 8, 9])"
   ]
  },
  {
   "cell_type": "code",
   "execution_count": null,
   "id": "92d6d11c",
   "metadata": {},
   "outputs": [],
   "source": [
    "greater_than_mean([1, 4, 5, 6, 3, 4, 3])"
   ]
  },
  {
   "cell_type": "code",
   "execution_count": null,
   "id": "58945796",
   "metadata": {},
   "outputs": [],
   "source": [
    "greater_than_mean([-1, -2, -3, 0, 4, -5])"
   ]
  },
  {
   "cell_type": "markdown",
   "id": "10c6adb8",
   "metadata": {},
   "source": [
    "### 3. Дано рядок слів. Створити словник, ключами якого є слова з дано рядка, а значеннями - кількість появ слова в рядку (пунктуацію попередньо видаліть)."
   ]
  },
  {
   "cell_type": "markdown",
   "id": "816e7b2b",
   "metadata": {},
   "source": [
    "`text = ‘Let me not to the marriage of true minds. Admit impediments, love is not love. Which alters when it alteration finds, Or bends with the remover to remove. O no, it is an ever fixèd mark. That looks on tempests and is never shaken; It is the star to every wand'ring bark, Whose worth's unknown although his height be taken. Love's not time's fool, though rosy lips and cheeks. Within his bending sickle's compass come, Love alters not with his brief hours and weeks, But bears it out even to the edge of doom: If this be error and upon me proved, I never\n",
    "writ, nor no man ever loved.’`"
   ]
  },
  {
   "cell_type": "code",
   "execution_count": null,
   "id": "d5b6423b",
   "metadata": {},
   "outputs": [],
   "source": [
    "def text_to_dict(text:str) -> dict:\n",
    "    '''Function recives a text and returns a dictionary, were\n",
    "       key is a word and value is a number of reps of the word.'''\n",
    "    text = text.lower().replace('.', '')\\\n",
    "               .replace(',', '').replace(';', '')\n",
    "    return {k:text.count(k) for k in set(text.split())}"
   ]
  },
  {
   "cell_type": "markdown",
   "id": "4d6deece",
   "metadata": {},
   "source": [
    "#### Test:"
   ]
  },
  {
   "cell_type": "code",
   "execution_count": null,
   "id": "a9c9ca11",
   "metadata": {},
   "outputs": [],
   "source": [
    "text = \"Let me not to the marriage of true minds. Admit impediments, love is not love. Which alters when it alteration finds, Or bends with the remover to remove. O no, it is an ever fixèd mark. That looks on tempests and is never shaken; It is the star to every wand'ring bark, Whose worth's unknown although his height be taken. Love's not time's fool, though rosy lips and cheeks. Within his bending sickle's compass come, Love alters not with his brief hours and weeks, But bears it out even to the edge of doom: If this be error and upon me proved, I never writ, nor no man ever loved.\""
   ]
  },
  {
   "cell_type": "code",
   "execution_count": null,
   "id": "1e8f1540",
   "metadata": {},
   "outputs": [],
   "source": [
    "print(text_to_dict(text))"
   ]
  },
  {
   "cell_type": "markdown",
   "id": "ef66dff9",
   "metadata": {},
   "source": [
    "### 4. Елементами списку є слова. Знайти слова в списку з найбільшою і найменшою кількістю літер (апостроф літерою не вважати). Якщо найбільших, чи найменших слів є кілька, то надрукувати всі."
   ]
  },
  {
   "cell_type": "markdown",
   "id": "7d9f3da0",
   "metadata": {},
   "source": [
    "`strings = [‘it’, ‘is’, ‘the’, ‘star’, ‘to’, ‘every’, “wand'ring”, ‘bark’, ‘whose’, “worth's”, ‘unknown’, ‘although’, ‘his’, ‘height’, ‘be’, ‘taken’]`"
   ]
  },
  {
   "cell_type": "code",
   "execution_count": null,
   "id": "61be4cbb",
   "metadata": {},
   "outputs": [],
   "source": [
    "def extreme_words(words:list) -> str:\n",
    "    '''Function recieves a list of words and\n",
    "       returns the biggest and the smallest word.'''\n",
    "    word_l = list(map(lambda x: len(x.replace(\"'\", '')), words))\n",
    "    i_d = list(zip(words, word_l))\n",
    "    return f\"Smallest word(s): {[m[0] for m in i_d if m[1]==min(word_l)]}\\\n",
    "             Biggest word(s): {[n[0] for n in i_d  if n[1]==max(word_l)]}\""
   ]
  },
  {
   "cell_type": "markdown",
   "id": "d567c76e",
   "metadata": {},
   "source": [
    "#### Test:"
   ]
  },
  {
   "cell_type": "code",
   "execution_count": null,
   "id": "b9d75521",
   "metadata": {},
   "outputs": [],
   "source": [
    "strings = [\"it\", \"is\", \"the\", \"star\", \"to\", \"every\", \"wand'ring\", \"bark\", \"whose\", \"worth's\", \"unknown\", \"although\", \"his\", \"height\", \"be\", \"taken\"]"
   ]
  },
  {
   "cell_type": "code",
   "execution_count": null,
   "id": "3b73febd",
   "metadata": {},
   "outputs": [],
   "source": [
    "extreme_words(strings)\n",
    "# Дивно повертає код через присутність апострофу"
   ]
  },
  {
   "cell_type": "code",
   "execution_count": null,
   "id": "7ca8add4",
   "metadata": {},
   "outputs": [],
   "source": [
    "strings = ['something', 'cow', 'bell', 'bee', 'by', 'four']"
   ]
  },
  {
   "cell_type": "code",
   "execution_count": null,
   "id": "a051b2c7",
   "metadata": {},
   "outputs": [],
   "source": [
    "extreme_words(strings)"
   ]
  },
  {
   "cell_type": "code",
   "execution_count": null,
   "id": "73942bea",
   "metadata": {},
   "outputs": [],
   "source": [
    "strings = ['car', 'plane', 'bike', 'jet', \"ships\", 'cruise']"
   ]
  },
  {
   "cell_type": "code",
   "execution_count": null,
   "id": "b192bce5",
   "metadata": {},
   "outputs": [],
   "source": [
    "extreme_words(strings)"
   ]
  },
  {
   "cell_type": "markdown",
   "id": "ba1bf081",
   "metadata": {},
   "source": [
    "### 5. Знайти значення суми"
   ]
  },
  {
   "cell_type": "markdown",
   "id": "932de93b",
   "metadata": {},
   "source": [
    "$$ \\frac{1}{1^2} + \\frac{1}{2^2} + \\frac{1}{3^2} + \\frac{1}{4^2} + ... + \\frac{1}{n^2}.$$"
   ]
  },
  {
   "cell_type": "code",
   "execution_count": null,
   "id": "f295a892",
   "metadata": {},
   "outputs": [],
   "source": [
    "def summing(n:int) -> int:\n",
    "    '''Function recieves an integer and\n",
    "       returns a sum of fractions until \n",
    "       the passed value(as shown before).'''\n",
    "    return sum(1/i**2 for i in range(1, n+1))"
   ]
  },
  {
   "cell_type": "markdown",
   "id": "b341b3bc",
   "metadata": {},
   "source": [
    "#### Test:"
   ]
  },
  {
   "cell_type": "code",
   "execution_count": null,
   "id": "466727f3",
   "metadata": {},
   "outputs": [],
   "source": [
    "summing(10)"
   ]
  },
  {
   "cell_type": "code",
   "execution_count": null,
   "id": "5e77a6dc",
   "metadata": {},
   "outputs": [],
   "source": [
    "summing(100)"
   ]
  },
  {
   "cell_type": "code",
   "execution_count": null,
   "id": "4ed04e0c",
   "metadata": {},
   "outputs": [],
   "source": [
    "summing(1000)"
   ]
  }
 ],
 "metadata": {
  "kernelspec": {
   "display_name": "Python 3 (ipykernel)",
   "language": "python",
   "name": "python3"
  },
  "language_info": {
   "codemirror_mode": {
    "name": "ipython",
    "version": 3
   },
   "file_extension": ".py",
   "mimetype": "text/x-python",
   "name": "python",
   "nbconvert_exporter": "python",
   "pygments_lexer": "ipython3",
   "version": "3.9.12"
  }
 },
 "nbformat": 4,
 "nbformat_minor": 5
}
