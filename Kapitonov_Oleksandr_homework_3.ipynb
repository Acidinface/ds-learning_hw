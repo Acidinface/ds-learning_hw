{
 "cells": [
  {
   "cell_type": "code",
   "execution_count": null,
   "metadata": {},
   "outputs": [],
   "source": [
    "import numpy as np"
   ]
  },
  {
   "cell_type": "markdown",
   "metadata": {
    "slideshow": {
     "slide_type": "slide"
    }
   },
   "source": [
    "# Вправи\n",
    "(використовувати тільки матричні операції)"
   ]
  },
  {
   "cell_type": "markdown",
   "metadata": {},
   "source": [
    "### Дано вектор:"
   ]
  },
  {
   "cell_type": "code",
   "execution_count": null,
   "metadata": {
    "slideshow": {
     "slide_type": "fragment"
    }
   },
   "outputs": [],
   "source": [
    "v = np.array([1, 2, 3, 4, 5, 6])"
   ]
  },
  {
   "cell_type": "markdown",
   "metadata": {
    "slideshow": {
     "slide_type": "slide"
    }
   },
   "source": [
    "### 1. Отримати суму елементів та суму квадратів елементів вектора:"
   ]
  },
  {
   "cell_type": "markdown",
   "metadata": {},
   "source": [
    "~np.sum(v)~"
   ]
  },
  {
   "cell_type": "code",
   "execution_count": null,
   "metadata": {},
   "outputs": [],
   "source": [
    "# Сума елементів вектора\n",
    "np.ones(len(v)).dot(v)"
   ]
  },
  {
   "cell_type": "code",
   "execution_count": null,
   "metadata": {},
   "outputs": [],
   "source": [
    "# Сума квадратів елементів вектора\n",
    "v.dot(v)"
   ]
  },
  {
   "cell_type": "markdown",
   "metadata": {
    "slideshow": {
     "slide_type": "slide"
    }
   },
   "source": [
    "### 2. Для вектора попереднього завдання побудувати вектор, кожним елементом якого є середнє значення вектора."
   ]
  },
  {
   "cell_type": "markdown",
   "metadata": {},
   "source": [
    "$$ \\frac{\\sum{x}}{n} = \\frac{1+2+3+4+5+6}{6} = \\frac{np.ones(len(v))@v}{len(v)}$$"
   ]
  },
  {
   "cell_type": "code",
   "execution_count": null,
   "metadata": {},
   "outputs": [],
   "source": [
    "np.ones(len(v)) @ v / len(v) + v - v"
   ]
  },
  {
   "cell_type": "code",
   "execution_count": null,
   "metadata": {},
   "outputs": [],
   "source": [
    "np.ones(len(v)) @ v / len(v) * np.ones(len(v))"
   ]
  },
  {
   "cell_type": "markdown",
   "metadata": {
    "slideshow": {
     "slide_type": "slide"
    }
   },
   "source": [
    "### 3. Написати функцію, яка приймає на вхід довільну кількість матриць, перевіряє, чи можна їх перемножити, і якщо можна, то повертає розмірність результату (можна скористатися циклом). "
   ]
  },
  {
   "cell_type": "code",
   "execution_count": null,
   "metadata": {},
   "outputs": [],
   "source": [
    "def matrix_mult_rec(*args:np.array) -> str:\n",
    "    '''Function checks if dot product is working on the passed arrays\n",
    "       and returns the final shape.'''\n",
    "    matrix = (list(map(lambda x: x.shape,args)))\n",
    "    def check(shapes:list) -> bool or int:\n",
    "        '''Function comepares shapes one after another.'''\n",
    "        current = shapes.pop(0)\n",
    "        last_index = current[-1]\n",
    "        if shapes:\n",
    "            if current[-1] != shapes[0][0]:\n",
    "                return False\n",
    "            elif current[-1] == shapes[0][0]:\n",
    "                return check(shapes)\n",
    "        else:\n",
    "            return last_index\n",
    "    result = (matrix[0][0], check(matrix)) \n",
    "    return f'Final shape: {result}' if False not in result else 'Invalid Shape!'"
   ]
  },
  {
   "cell_type": "code",
   "execution_count": null,
   "metadata": {},
   "outputs": [],
   "source": [
    "def matrix_mult_for(*args:np.array) -> str:\n",
    "    '''Same function as before with for loop.'''\n",
    "    matrix = (list(map(lambda x: x.shape,args)))\n",
    "    for i, d in enumerate(matrix):\n",
    "        try:\n",
    "            check1, check2 = d[-1], matrix[i+1][0]\n",
    "            if check1 != check2:\n",
    "                return 'Invalid Shape!'\n",
    "        except IndexError:\n",
    "            return f'Final shape: {matrix[0][0], matrix[-1][-1]}'"
   ]
  },
  {
   "cell_type": "markdown",
   "metadata": {},
   "source": [
    "#### Test:"
   ]
  },
  {
   "cell_type": "code",
   "execution_count": null,
   "metadata": {},
   "outputs": [],
   "source": [
    "# Матриця 2х2 на 2х4 на 4х6 на 6х2 (рекурсія)\n",
    "\n",
    "print(matrix_mult_rec(np.array([[1,2],\n",
    "                      [3,4]])\n",
    "            \n",
    "            ,np.array([[5,6,7,8],\n",
    "                       [3,5,7,8]])\n",
    "            \n",
    "            ,np.array([[9,1,5,4,3,6],\n",
    "                       [2,4,3,2,1,2],\n",
    "                       [1,2,3,4,5,6],\n",
    "                       [1,2,3,4,5,6]])\n",
    "            \n",
    "            ,np.array([[3,5],\n",
    "                       [7,8],\n",
    "                       [3,4],\n",
    "                       [6,2],\n",
    "                       [7,1],\n",
    "                       [4,7]])))"
   ]
  },
  {
   "cell_type": "code",
   "execution_count": null,
   "metadata": {},
   "outputs": [],
   "source": [
    "# Матриця 2х2 на 2х4 на 4х6 на 6х2 (цикл)\n",
    "\n",
    "print(matrix_mult_for(np.array([[1,2],\n",
    "                      [3,4]])\n",
    "            \n",
    "            ,np.array([[5,6,7,8],\n",
    "                       [3,5,7,8]])\n",
    "            \n",
    "            ,np.array([[9,1,5,4,3,6],\n",
    "                       [2,4,3,2,1,2],\n",
    "                       [1,2,3,4,5,6],\n",
    "                       [1,2,3,4,5,6]])\n",
    "            \n",
    "            ,np.array([[3,5],\n",
    "                       [7,8],\n",
    "                       [3,4],\n",
    "                       [6,2],\n",
    "                       [7,1],\n",
    "                       [4,7]])))"
   ]
  },
  {
   "cell_type": "code",
   "execution_count": null,
   "metadata": {},
   "outputs": [],
   "source": [
    "# Матриця 3х3 на 3х1 на 1х3\n",
    "matrix_mult_rec(np.array([[1,2,3],\n",
    "                      [3,4,6],\n",
    "                      [7,4,5]])\n",
    "            \n",
    "            ,np.array([[3],\n",
    "                       [7],\n",
    "                       [4]])\n",
    "            \n",
    "            ,np.array([[5,6,8]]))"
   ]
  },
  {
   "cell_type": "code",
   "execution_count": null,
   "metadata": {},
   "outputs": [],
   "source": [
    "# Матриця 3х2 на 3х1 на 1х3\n",
    "matrix_mult_rec(np.array([[1,2],\n",
    "                      [3,4],\n",
    "                      [7,4]])\n",
    "            \n",
    "            ,np.array([[3],\n",
    "                       [7],\n",
    "                       [4]])\n",
    "            \n",
    "            ,np.array([[5,6,8]]))"
   ]
  },
  {
   "cell_type": "code",
   "execution_count": null,
   "metadata": {},
   "outputs": [],
   "source": [
    "# Матриця 2х1 на 3х1 \n",
    "matrix_mult_for(np.array([[1],\n",
    "                      [3]])\n",
    "            \n",
    "            ,np.array([[3],\n",
    "                       [7],\n",
    "                       [4]]))"
   ]
  },
  {
   "cell_type": "code",
   "execution_count": null,
   "metadata": {},
   "outputs": [],
   "source": [
    "# Матриця 5х3 на 3х7 \n",
    "matrix_mult_rec(np.array([[1,3,1],\n",
    "                      [3,4,2],\n",
    "                      [6,7,4],\n",
    "                      [7,3,1],\n",
    "                      [3,6,2]])\n",
    "            \n",
    "            ,np.array([[3,8,2,4,2,1,6],\n",
    "                       [7,9,2,5,1,8,22],\n",
    "                       [4,23,53,13,6,12,51]]))"
   ]
  },
  {
   "cell_type": "markdown",
   "metadata": {
    "slideshow": {
     "slide_type": "slide"
    }
   },
   "source": [
    "### 4.Обчислити вираз:"
   ]
  },
  {
   "cell_type": "markdown",
   "metadata": {
    "slideshow": {
     "slide_type": "fragment"
    }
   },
   "source": [
    "$$\\sum_{i=1}^n(x_{i} - avg(x))^{2}$$"
   ]
  },
  {
   "cell_type": "code",
   "execution_count": null,
   "metadata": {},
   "outputs": [],
   "source": [
    "def solver(x:np.array) -> np.array:\n",
    "    '''Function solves equation given upper'''\n",
    "    x_f = x.ravel()\n",
    "    avg = x_f.dot(np.ones(len(x_f)))/len(x_f)\n",
    "    return np.ones(len(x_f))@((x-avg).dot(x-avg)).ravel()"
   ]
  },
  {
   "cell_type": "markdown",
   "metadata": {},
   "source": [
    "#### Test:"
   ]
  },
  {
   "cell_type": "code",
   "execution_count": null,
   "metadata": {},
   "outputs": [],
   "source": [
    "np.std(np.array([[3,8,2,4,2,1,6]]))"
   ]
  },
  {
   "cell_type": "code",
   "execution_count": null,
   "metadata": {},
   "outputs": [],
   "source": [
    "solver(np.array([[3,8,2,4,2,1,6]]))"
   ]
  },
  {
   "cell_type": "code",
   "execution_count": null,
   "metadata": {},
   "outputs": [],
   "source": [
    "# Перевірка\n",
    "sum(((3-np.array([[3,8,2,4,2,1,6]]).mean())**2,\n",
    "     (8-np.array([[3,8,2,4,2,1,6]]).mean())**2,\n",
    "     (2-np.array([[3,8,2,4,2,1,6]]).mean())**2,\n",
    "     (4-np.array([[3,8,2,4,2,1,6]]).mean())**2,\n",
    "     (2-np.array([[3,8,2,4,2,1,6]]).mean())**2,\n",
    "     (1-np.array([[3,8,2,4,2,1,6]]).mean())**2,\n",
    "     (6-np.array([[3,8,2,4,2,1,6]]).mean())**2))"
   ]
  },
  {
   "cell_type": "code",
   "execution_count": null,
   "metadata": {},
   "outputs": [],
   "source": [
    "solver(np.array([[1,2],[3,4]]))"
   ]
  },
  {
   "cell_type": "code",
   "execution_count": null,
   "metadata": {},
   "outputs": [],
   "source": [
    "# Перевірка\n",
    "sum(((1-np.array([[1,2],[3,4]]).mean())**2,\n",
    "     (2-np.array([[1,2],[3,4]]).mean())**2,\n",
    "     (3-np.array([[1,2],[3,4]]).mean())**2,\n",
    "     (4-np.array([[1,2],[3,4]]).mean())**2))"
   ]
  },
  {
   "cell_type": "markdown",
   "metadata": {
    "slideshow": {
     "slide_type": "slide"
    }
   },
   "source": [
    "### 5. Вивести матрицю, яка при множенні на вектор зліва ($\\overrightarrow{M_{x}}$) приводить його до форми відхилення від середнього значення. Тобто, кожним елементом вектора-результату буде відповідний елемент вхідного вектора мінус середнє значення. Матриця М не повинна залежати від вхідного вектора x, а лише від його довжини. Іншими словами, для створення такої матриці має бути достатньо лише знання скільки у векторі елементів."
   ]
  },
  {
   "cell_type": "markdown",
   "metadata": {},
   "source": [
    "$$\\overrightarrow{M_{x}}=\\begin{pmatrix}x_{1} & x_{2} & x_{3} & ... & x_{i}\\end{pmatrix}$$\n",
    "$$$$\n",
    "$$M = \\begin{pmatrix}m_{11} & m_{12} & ... & m_{1n}\\\\\\ \n",
    "m_{21} & m_{22} & ... & m_{2n}\\\\\\ \n",
    "...&...&...&...\\\\\\\n",
    "m_{k1} & m_{k2} & ... &m_{kn}\\end{pmatrix}$$\n",
    "$$$$\n",
    "$$\\overrightarrow{M_{x}} \\times M = \\begin{pmatrix}x_{1}-avg(x)& x_{2}-avg(x)& ... & x_{i}-avg(x)\\end{pmatrix}$$"
   ]
  },
  {
   "cell_type": "code",
   "execution_count": null,
   "metadata": {},
   "outputs": [],
   "source": [
    "Mx = np.array([1,2,3,4,5])"
   ]
  },
  {
   "cell_type": "code",
   "execution_count": null,
   "metadata": {},
   "outputs": [],
   "source": [
    "def M(length_M:int) -> np.array:\n",
    "    '''Function returns a matrix which in product with \n",
    "       passed in vector will be transformed into a needed vector.'''\n",
    "    return np.eye(len(Mx))-np.ones((len(Mx),len(Mx)))*(1/len(Mx))"
   ]
  },
  {
   "cell_type": "code",
   "execution_count": null,
   "metadata": {},
   "outputs": [],
   "source": [
    "def Mx_dot_M(vector:np.array) -> np.array:\n",
    "    '''Function to shorten the process of testing dot product of vector on matrix.'''\n",
    "    return np.around(vector@M(len(vector)))"
   ]
  },
  {
   "cell_type": "markdown",
   "metadata": {},
   "source": [
    "#### Test:"
   ]
  },
  {
   "cell_type": "code",
   "execution_count": null,
   "metadata": {},
   "outputs": [],
   "source": [
    "Mx_dot_M(Mx)"
   ]
  },
  {
   "cell_type": "code",
   "execution_count": null,
   "metadata": {},
   "outputs": [],
   "source": [
    "Mx = np.arange(0,1001)\n",
    "Mx_dot_M(Mx)"
   ]
  },
  {
   "cell_type": "markdown",
   "metadata": {
    "slideshow": {
     "slide_type": "slide"
    }
   },
   "source": [
    "### 6. Розв'язати систему рівнянь (можна скористатися функцією кореня):"
   ]
  },
  {
   "cell_type": "markdown",
   "metadata": {
    "slideshow": {
     "slide_type": "fragment"
    }
   },
   "source": [
    "$$\\begin{cases}\n",
    "47a^{2} + 71b - 2c = 3\\\\\\\n",
    "11b - 8c = 3\\\\\\\n",
    "a^{2} + b + c = 24\n",
    "\\end{cases}$$"
   ]
  },
  {
   "cell_type": "code",
   "execution_count": null,
   "metadata": {},
   "outputs": [],
   "source": [
    "A = np.array([[47, 71, -2],\n",
    "              [0, 11, -8],\n",
    "              [1, 1, 1]])\n",
    "\n",
    "B = np.array([3,3,24])"
   ]
  },
  {
   "cell_type": "code",
   "execution_count": null,
   "metadata": {},
   "outputs": [],
   "source": [
    "A_i = np.linalg.inv(A)"
   ]
  },
  {
   "cell_type": "code",
   "execution_count": null,
   "metadata": {},
   "outputs": [],
   "source": [
    "# Перевіримо що матриця обернена\n",
    "np.around(A @ A_i)"
   ]
  },
  {
   "cell_type": "code",
   "execution_count": null,
   "metadata": {},
   "outputs": [],
   "source": [
    "# Отримаемо вектор зі значеннями змінних\n",
    "res_vector = A_i @ B\n",
    "res_vector"
   ]
  },
  {
   "cell_type": "code",
   "execution_count": null,
   "metadata": {},
   "outputs": [],
   "source": [
    "# Відповідь:\n",
    "print('Value of variables are:')\n",
    "print(f' a: {np.sqrt(res_vector[0]+0j)}, <- complex number(when squarde gives a negative output)\\n b: {res_vector[1]},\\n c: {res_vector[2]}')"
   ]
  },
  {
   "cell_type": "code",
   "execution_count": null,
   "metadata": {},
   "outputs": [],
   "source": [
    "# Перевіримо відповідь\n",
    "check = np.linalg.solve(A,B)\n",
    "print(f'Solved with built-in function:{check}\\nOur calculations:{res_vector}\\nComared:')\n",
    "np.around(check, decimals=8) == np.around(res_vector, decimals=8)"
   ]
  },
  {
   "cell_type": "code",
   "execution_count": null,
   "metadata": {},
   "outputs": [],
   "source": []
  }
 ],
 "metadata": {
  "celltoolbar": "Slideshow",
  "kernelspec": {
   "display_name": "Python 3 (ipykernel)",
   "language": "python",
   "name": "python3"
  },
  "language_info": {
   "codemirror_mode": {
    "name": "ipython",
    "version": 3
   },
   "file_extension": ".py",
   "mimetype": "text/x-python",
   "name": "python",
   "nbconvert_exporter": "python",
   "pygments_lexer": "ipython3",
   "version": "3.9.12"
  },
  "toc": {
   "base_numbering": 1,
   "nav_menu": {},
   "number_sections": true,
   "sideBar": true,
   "skip_h1_title": false,
   "title_cell": "Table of Contents",
   "title_sidebar": "Contents",
   "toc_cell": false,
   "toc_position": {},
   "toc_section_display": true,
   "toc_window_display": true
  },
  "varInspector": {
   "cols": {
    "lenName": 16,
    "lenType": 16,
    "lenVar": 40
   },
   "kernels_config": {
    "python": {
     "delete_cmd_postfix": "",
     "delete_cmd_prefix": "del ",
     "library": "var_list.py",
     "varRefreshCmd": "print(var_dic_list())"
    },
    "r": {
     "delete_cmd_postfix": ") ",
     "delete_cmd_prefix": "rm(",
     "library": "var_list.r",
     "varRefreshCmd": "cat(var_dic_list()) "
    }
   },
   "types_to_exclude": [
    "module",
    "function",
    "builtin_function_or_method",
    "instance",
    "_Feature"
   ],
   "window_display": false
  }
 },
 "nbformat": 4,
 "nbformat_minor": 2
}
