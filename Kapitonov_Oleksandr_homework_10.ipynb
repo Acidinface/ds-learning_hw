{
 "cells": [
  {
   "cell_type": "code",
   "execution_count": 1,
   "id": "c4a32dd2",
   "metadata": {},
   "outputs": [],
   "source": [
    "#conda install -c conda-forge xgboost"
   ]
  },
  {
   "cell_type": "code",
   "execution_count": 2,
   "id": "3999c342",
   "metadata": {},
   "outputs": [],
   "source": [
    "#conda install -c conda-forge mlxtend"
   ]
  },
  {
   "cell_type": "code",
   "execution_count": 3,
   "id": "61aa99da",
   "metadata": {},
   "outputs": [],
   "source": [
    "import warnings\n",
    "import pandas as pd\n",
    "import numpy as np\n",
    "import matplotlib.pyplot as plt\n",
    "\n",
    "warnings.filterwarnings('ignore')"
   ]
  },
  {
   "cell_type": "markdown",
   "id": "6df61812",
   "metadata": {},
   "source": [
    "* Потрібно створити кілька моделей класифікації (логістична регресія, svm, k-mean, NBC, Decision Tree and Random Forest) для порівняння результатів.\n",
    "* Для того, щоб можна було порівнювати ваші результати, зробіть крос-валідацію на 4 фолди.\n",
    "* Підберіть параметри так, щоб отримати найкращі результати."
   ]
  },
  {
   "cell_type": "code",
   "execution_count": 4,
   "id": "ac1e9e67",
   "metadata": {},
   "outputs": [],
   "source": [
    "dib_df = pd.read_csv('Data/diabetes.csv')"
   ]
  },
  {
   "cell_type": "code",
   "execution_count": 5,
   "id": "0873beff",
   "metadata": {},
   "outputs": [
    {
     "data": {
      "text/html": [
       "<div>\n",
       "<style scoped>\n",
       "    .dataframe tbody tr th:only-of-type {\n",
       "        vertical-align: middle;\n",
       "    }\n",
       "\n",
       "    .dataframe tbody tr th {\n",
       "        vertical-align: top;\n",
       "    }\n",
       "\n",
       "    .dataframe thead th {\n",
       "        text-align: right;\n",
       "    }\n",
       "</style>\n",
       "<table border=\"1\" class=\"dataframe\">\n",
       "  <thead>\n",
       "    <tr style=\"text-align: right;\">\n",
       "      <th></th>\n",
       "      <th>Pregnancies</th>\n",
       "      <th>Glucose</th>\n",
       "      <th>BloodPressure</th>\n",
       "      <th>SkinThickness</th>\n",
       "      <th>Insulin</th>\n",
       "      <th>BMI</th>\n",
       "      <th>DiabetesPedigreeFunction</th>\n",
       "      <th>Age</th>\n",
       "      <th>Outcome</th>\n",
       "    </tr>\n",
       "  </thead>\n",
       "  <tbody>\n",
       "    <tr>\n",
       "      <th>0</th>\n",
       "      <td>6</td>\n",
       "      <td>148</td>\n",
       "      <td>72</td>\n",
       "      <td>35</td>\n",
       "      <td>0</td>\n",
       "      <td>33.6</td>\n",
       "      <td>0.627</td>\n",
       "      <td>50</td>\n",
       "      <td>1</td>\n",
       "    </tr>\n",
       "    <tr>\n",
       "      <th>1</th>\n",
       "      <td>1</td>\n",
       "      <td>85</td>\n",
       "      <td>66</td>\n",
       "      <td>29</td>\n",
       "      <td>0</td>\n",
       "      <td>26.6</td>\n",
       "      <td>0.351</td>\n",
       "      <td>31</td>\n",
       "      <td>0</td>\n",
       "    </tr>\n",
       "    <tr>\n",
       "      <th>2</th>\n",
       "      <td>8</td>\n",
       "      <td>183</td>\n",
       "      <td>64</td>\n",
       "      <td>0</td>\n",
       "      <td>0</td>\n",
       "      <td>23.3</td>\n",
       "      <td>0.672</td>\n",
       "      <td>32</td>\n",
       "      <td>1</td>\n",
       "    </tr>\n",
       "    <tr>\n",
       "      <th>3</th>\n",
       "      <td>1</td>\n",
       "      <td>89</td>\n",
       "      <td>66</td>\n",
       "      <td>23</td>\n",
       "      <td>94</td>\n",
       "      <td>28.1</td>\n",
       "      <td>0.167</td>\n",
       "      <td>21</td>\n",
       "      <td>0</td>\n",
       "    </tr>\n",
       "    <tr>\n",
       "      <th>4</th>\n",
       "      <td>0</td>\n",
       "      <td>137</td>\n",
       "      <td>40</td>\n",
       "      <td>35</td>\n",
       "      <td>168</td>\n",
       "      <td>43.1</td>\n",
       "      <td>2.288</td>\n",
       "      <td>33</td>\n",
       "      <td>1</td>\n",
       "    </tr>\n",
       "  </tbody>\n",
       "</table>\n",
       "</div>"
      ],
      "text/plain": [
       "   Pregnancies  Glucose  BloodPressure  SkinThickness  Insulin   BMI  \\\n",
       "0            6      148             72             35        0  33.6   \n",
       "1            1       85             66             29        0  26.6   \n",
       "2            8      183             64              0        0  23.3   \n",
       "3            1       89             66             23       94  28.1   \n",
       "4            0      137             40             35      168  43.1   \n",
       "\n",
       "   DiabetesPedigreeFunction  Age  Outcome  \n",
       "0                     0.627   50        1  \n",
       "1                     0.351   31        0  \n",
       "2                     0.672   32        1  \n",
       "3                     0.167   21        0  \n",
       "4                     2.288   33        1  "
      ]
     },
     "execution_count": 5,
     "metadata": {},
     "output_type": "execute_result"
    }
   ],
   "source": [
    "dib_df.head()"
   ]
  },
  {
   "cell_type": "code",
   "execution_count": 6,
   "id": "5b1a6e45",
   "metadata": {},
   "outputs": [],
   "source": [
    "def ploting(features):\n",
    "    for f in list(features):\n",
    "        plt.figure()\n",
    "        yield f, dib_df[f].plot(kind='hist');\n",
    "g = ploting(dib_df.columns)"
   ]
  },
  {
   "cell_type": "code",
   "execution_count": 7,
   "id": "8117b337",
   "metadata": {},
   "outputs": [
    {
     "data": {
      "text/plain": [
       "('Pregnancies', <AxesSubplot:ylabel='Frequency'>)"
      ]
     },
     "execution_count": 7,
     "metadata": {},
     "output_type": "execute_result"
    },
    {
     "data": {
      "image/png": "[encoded data removed]",
      "text/plain": [
       "<Figure size 432x288 with 1 Axes>"
      ]
     },
     "metadata": {
      "needs_background": "light"
     },
     "output_type": "display_data"
    }
   ],
   "source": [
    "next(g)"
   ]
  },
  {
   "cell_type": "code",
   "execution_count": 8,
   "id": "5c772a76",
   "metadata": {},
   "outputs": [
    {
     "data": {
      "text/plain": [
       "Pregnancies                 0\n",
       "Glucose                     0\n",
       "BloodPressure               0\n",
       "SkinThickness               0\n",
       "Insulin                     0\n",
       "BMI                         0\n",
       "DiabetesPedigreeFunction    0\n",
       "Age                         0\n",
       "Outcome                     0\n",
       "dtype: int64"
      ]
     },
     "execution_count": 8,
     "metadata": {},
     "output_type": "execute_result"
    }
   ],
   "source": [
    "dib_df.isna().sum()"
   ]
  },
  {
   "cell_type": "code",
   "execution_count": 9,
   "id": "eb2cb6cd",
   "metadata": {},
   "outputs": [
    {
     "name": "stdout",
     "output_type": "stream",
     "text": [
      "<class 'pandas.core.frame.DataFrame'>\n",
      "RangeIndex: 768 entries, 0 to 767\n",
      "Data columns (total 9 columns):\n",
      " #   Column                    Non-Null Count  Dtype  \n",
      "---  ------                    --------------  -----  \n",
      " 0   Pregnancies               768 non-null    int64  \n",
      " 1   Glucose                   768 non-null    int64  \n",
      " 2   BloodPressure             768 non-null    int64  \n",
      " 3   SkinThickness             768 non-null    int64  \n",
      " 4   Insulin                   768 non-null    int64  \n",
      " 5   BMI                       768 non-null    float64\n",
      " 6   DiabetesPedigreeFunction  768 non-null    float64\n",
      " 7   Age                       768 non-null    int64  \n",
      " 8   Outcome                   768 non-null    int64  \n",
      "dtypes: float64(2), int64(7)\n",
      "memory usage: 54.1 KB\n"
     ]
    }
   ],
   "source": [
    "dib_df.info()"
   ]
  },
  {
   "cell_type": "code",
   "execution_count": 10,
   "id": "dc61c4ca",
   "metadata": {},
   "outputs": [
    {
     "data": {
      "text/html": [
       "<div>\n",
       "<style scoped>\n",
       "    .dataframe tbody tr th:only-of-type {\n",
       "        vertical-align: middle;\n",
       "    }\n",
       "\n",
       "    .dataframe tbody tr th {\n",
       "        vertical-align: top;\n",
       "    }\n",
       "\n",
       "    .dataframe thead th {\n",
       "        text-align: right;\n",
       "    }\n",
       "</style>\n",
       "<table border=\"1\" class=\"dataframe\">\n",
       "  <thead>\n",
       "    <tr style=\"text-align: right;\">\n",
       "      <th></th>\n",
       "      <th>Pregnancies</th>\n",
       "      <th>Glucose</th>\n",
       "      <th>BloodPressure</th>\n",
       "      <th>SkinThickness</th>\n",
       "      <th>Insulin</th>\n",
       "      <th>BMI</th>\n",
       "      <th>DiabetesPedigreeFunction</th>\n",
       "      <th>Age</th>\n",
       "      <th>Outcome</th>\n",
       "    </tr>\n",
       "  </thead>\n",
       "  <tbody>\n",
       "    <tr>\n",
       "      <th>0</th>\n",
       "      <td>6</td>\n",
       "      <td>148</td>\n",
       "      <td>72</td>\n",
       "      <td>35</td>\n",
       "      <td>0</td>\n",
       "      <td>33.6</td>\n",
       "      <td>0.627</td>\n",
       "      <td>50</td>\n",
       "      <td>1</td>\n",
       "    </tr>\n",
       "    <tr>\n",
       "      <th>1</th>\n",
       "      <td>1</td>\n",
       "      <td>85</td>\n",
       "      <td>66</td>\n",
       "      <td>29</td>\n",
       "      <td>0</td>\n",
       "      <td>26.6</td>\n",
       "      <td>0.351</td>\n",
       "      <td>31</td>\n",
       "      <td>0</td>\n",
       "    </tr>\n",
       "    <tr>\n",
       "      <th>2</th>\n",
       "      <td>8</td>\n",
       "      <td>183</td>\n",
       "      <td>64</td>\n",
       "      <td>0</td>\n",
       "      <td>0</td>\n",
       "      <td>23.3</td>\n",
       "      <td>0.672</td>\n",
       "      <td>32</td>\n",
       "      <td>1</td>\n",
       "    </tr>\n",
       "    <tr>\n",
       "      <th>3</th>\n",
       "      <td>1</td>\n",
       "      <td>89</td>\n",
       "      <td>66</td>\n",
       "      <td>23</td>\n",
       "      <td>94</td>\n",
       "      <td>28.1</td>\n",
       "      <td>0.167</td>\n",
       "      <td>21</td>\n",
       "      <td>0</td>\n",
       "    </tr>\n",
       "    <tr>\n",
       "      <th>4</th>\n",
       "      <td>0</td>\n",
       "      <td>137</td>\n",
       "      <td>40</td>\n",
       "      <td>35</td>\n",
       "      <td>168</td>\n",
       "      <td>43.1</td>\n",
       "      <td>2.288</td>\n",
       "      <td>33</td>\n",
       "      <td>1</td>\n",
       "    </tr>\n",
       "  </tbody>\n",
       "</table>\n",
       "</div>"
      ],
      "text/plain": [
       "   Pregnancies  Glucose  BloodPressure  SkinThickness  Insulin   BMI  \\\n",
       "0            6      148             72             35        0  33.6   \n",
       "1            1       85             66             29        0  26.6   \n",
       "2            8      183             64              0        0  23.3   \n",
       "3            1       89             66             23       94  28.1   \n",
       "4            0      137             40             35      168  43.1   \n",
       "\n",
       "   DiabetesPedigreeFunction  Age  Outcome  \n",
       "0                     0.627   50        1  \n",
       "1                     0.351   31        0  \n",
       "2                     0.672   32        1  \n",
       "3                     0.167   21        0  \n",
       "4                     2.288   33        1  "
      ]
     },
     "execution_count": 10,
     "metadata": {},
     "output_type": "execute_result"
    }
   ],
   "source": [
    "dib_df.head()"
   ]
  },
  {
   "cell_type": "code",
   "execution_count": 11,
   "id": "80382d96",
   "metadata": {},
   "outputs": [],
   "source": [
    "y = dib_df['Outcome']\n",
    "X = dib_df.drop(['Outcome'], axis=1)"
   ]
  },
  {
   "cell_type": "code",
   "execution_count": 12,
   "id": "c8c26ccf",
   "metadata": {},
   "outputs": [],
   "source": [
    "from sklearn.naive_bayes import CategoricalNB\n",
    "from sklearn.model_selection import GridSearchCV\n",
    "from sklearn.tree import DecisionTreeClassifier\n",
    "from sklearn.ensemble import AdaBoostClassifier, RandomForestClassifier\n",
    "from sklearn.linear_model import LogisticRegression\n",
    "from xgboost import XGBClassifier\n",
    "from sklearn.svm import SVC\n",
    "\n",
    "CV = 4\n",
    "\n",
    "dtc = DecisionTreeClassifier()\n",
    "ada = AdaBoostClassifier()\n",
    "ranfor = RandomForestClassifier()\n",
    "logreg = LogisticRegression()\n",
    "xgboo = XGBClassifier()\n",
    "svc = SVC()\n",
    "\n",
    "models = [dtc, ada, ranfor, logreg, xgboo, svc]"
   ]
  },
  {
   "cell_type": "code",
   "execution_count": 13,
   "id": "1c2a1b87",
   "metadata": {},
   "outputs": [],
   "source": [
    "my_params = {}\n",
    "my_params['max_depth'] = [None, 1, 3, 5]\n",
    "my_params['C'] = [0.5, 1, 2, 5]\n",
    "my_params['n_estimators'] = [50, 100, 200]\n",
    "my_params['kernel'] = ['linear', 'poly', 'rbf', 'sigmoid']\n",
    "my_params['ccp_alpha'] = [0.0, None, 1.0]\n",
    "my_params['random_state'] = [42]\n",
    "my_params['class_weight'] = ['balanced']\n",
    "my_params['criterion'] = ['gini', 'entropy']"
   ]
  },
  {
   "cell_type": "code",
   "execution_count": 14,
   "id": "e835b35f",
   "metadata": {},
   "outputs": [
    {
     "data": {
      "text/plain": [
       "{'max_depth': [None, 1, 3, 5],\n",
       " 'C': [0.5, 1, 2, 5],\n",
       " 'n_estimators': [50, 100, 200],\n",
       " 'kernel': ['linear', 'poly', 'rbf', 'sigmoid'],\n",
       " 'ccp_alpha': [0.0, None, 1.0],\n",
       " 'random_state': [42],\n",
       " 'class_weight': ['balanced'],\n",
       " 'criterion': ['gini', 'entropy']}"
      ]
     },
     "execution_count": 14,
     "metadata": {},
     "output_type": "execute_result"
    }
   ],
   "source": [
    "my_params"
   ]
  },
  {
   "cell_type": "code",
   "execution_count": 15,
   "id": "ecfa0ade",
   "metadata": {},
   "outputs": [],
   "source": [
    "problems = []\n",
    "best_params = {}"
   ]
  },
  {
   "cell_type": "code",
   "execution_count": 16,
   "id": "bdada760",
   "metadata": {
    "scrolled": true
   },
   "outputs": [],
   "source": [
    "def model_change(models):\n",
    "    global my_params, CV\n",
    "    for m in models:\n",
    "        print(m,'\\n')\n",
    "        params = {}\n",
    "        for mp in list(my_params):\n",
    "            if mp in m.get_params().keys():\n",
    "                mpv = my_params.get(mp)\n",
    "                params.update({mp: mpv})\n",
    "        print('starting params : \\n', params, '\\n')\n",
    "        mdl = GridSearchCV(estimator=m, param_grid=params, cv=CV, verbose=0)\n",
    "        mdl.fit(X,y)\n",
    "        grid_s_cv = pd.DataFrame(mdl.cv_results_)\n",
    "        print('best params :')\n",
    "        res = grid_s_cv.loc[grid_s_cv['rank_test_score'] == 1]['params'].values[0]\n",
    "        print(res)\n",
    "        best_params.update({m: res})\n",
    "        yield grid_s_cv[grid_s_cv['rank_test_score'] == 1]\n",
    "mc = model_change(models)"
   ]
  },
  {
   "cell_type": "code",
   "execution_count": 17,
   "id": "b859f2b3",
   "metadata": {},
   "outputs": [
    {
     "name": "stdout",
     "output_type": "stream",
     "text": [
      "DecisionTreeClassifier() \n",
      "\n",
      "starting params : \n",
      " {'max_depth': [None, 1, 3, 5], 'ccp_alpha': [0.0, None, 1.0], 'random_state': [42], 'class_weight': ['balanced'], 'criterion': ['gini', 'entropy']} \n",
      "\n",
      "best params :\n",
      "{'ccp_alpha': 0.0, 'class_weight': 'balanced', 'criterion': 'entropy', 'max_depth': 5, 'random_state': 42}\n"
     ]
    },
    {
     "data": {
      "text/html": [
       "<div>\n",
       "<style scoped>\n",
       "    .dataframe tbody tr th:only-of-type {\n",
       "        vertical-align: middle;\n",
       "    }\n",
       "\n",
       "    .dataframe tbody tr th {\n",
       "        vertical-align: top;\n",
       "    }\n",
       "\n",
       "    .dataframe thead th {\n",
       "        text-align: right;\n",
       "    }\n",
       "</style>\n",
       "<table border=\"1\" class=\"dataframe\">\n",
       "  <thead>\n",
       "    <tr style=\"text-align: right;\">\n",
       "      <th></th>\n",
       "      <th>mean_fit_time</th>\n",
       "      <th>std_fit_time</th>\n",
       "      <th>mean_score_time</th>\n",
       "      <th>std_score_time</th>\n",
       "      <th>param_ccp_alpha</th>\n",
       "      <th>param_class_weight</th>\n",
       "      <th>param_criterion</th>\n",
       "      <th>param_max_depth</th>\n",
       "      <th>param_random_state</th>\n",
       "      <th>params</th>\n",
       "      <th>split0_test_score</th>\n",
       "      <th>split1_test_score</th>\n",
       "      <th>split2_test_score</th>\n",
       "      <th>split3_test_score</th>\n",
       "      <th>mean_test_score</th>\n",
       "      <th>std_test_score</th>\n",
       "      <th>rank_test_score</th>\n",
       "    </tr>\n",
       "  </thead>\n",
       "  <tbody>\n",
       "    <tr>\n",
       "      <th>7</th>\n",
       "      <td>0.003508</td>\n",
       "      <td>0.000499</td>\n",
       "      <td>0.000988</td>\n",
       "      <td>0.000015</td>\n",
       "      <td>0.0</td>\n",
       "      <td>balanced</td>\n",
       "      <td>entropy</td>\n",
       "      <td>5</td>\n",
       "      <td>42</td>\n",
       "      <td>{'ccp_alpha': 0.0, 'class_weight': 'balanced',...</td>\n",
       "      <td>0.71875</td>\n",
       "      <td>0.692708</td>\n",
       "      <td>0.78125</td>\n",
       "      <td>0.729167</td>\n",
       "      <td>0.730469</td>\n",
       "      <td>0.032185</td>\n",
       "      <td>1</td>\n",
       "    </tr>\n",
       "  </tbody>\n",
       "</table>\n",
       "</div>"
      ],
      "text/plain": [
       "   mean_fit_time  std_fit_time  mean_score_time  std_score_time  \\\n",
       "7       0.003508      0.000499         0.000988        0.000015   \n",
       "\n",
       "  param_ccp_alpha param_class_weight param_criterion param_max_depth  \\\n",
       "7             0.0           balanced         entropy               5   \n",
       "\n",
       "  param_random_state                                             params  \\\n",
       "7                 42  {'ccp_alpha': 0.0, 'class_weight': 'balanced',...   \n",
       "\n",
       "   split0_test_score  split1_test_score  split2_test_score  split3_test_score  \\\n",
       "7            0.71875           0.692708            0.78125           0.729167   \n",
       "\n",
       "   mean_test_score  std_test_score  rank_test_score  \n",
       "7         0.730469        0.032185                1  "
      ]
     },
     "execution_count": 17,
     "metadata": {},
     "output_type": "execute_result"
    }
   ],
   "source": [
    "next(mc)"
   ]
  },
  {
   "cell_type": "code",
   "execution_count": 18,
   "id": "75ef3411",
   "metadata": {},
   "outputs": [
    {
     "data": {
      "text/plain": [
       "{DecisionTreeClassifier(): {'ccp_alpha': 0.0,\n",
       "  'class_weight': 'balanced',\n",
       "  'criterion': 'entropy',\n",
       "  'max_depth': 5,\n",
       "  'random_state': 42}}"
      ]
     },
     "execution_count": 18,
     "metadata": {},
     "output_type": "execute_result"
    }
   ],
   "source": [
    "best_params"
   ]
  }
 ],
 "metadata": {
  "kernelspec": {
   "display_name": "Python 3 (ipykernel)",
   "language": "python",
   "name": "python3"
  },
  "language_info": {
   "codemirror_mode": {
    "name": "ipython",
    "version": 3
   },
   "file_extension": ".py",
   "mimetype": "text/x-python",
   "name": "python",
   "nbconvert_exporter": "python",
   "pygments_lexer": "ipython3",
   "version": "3.9.7"
  }
 },
 "nbformat": 4,
 "nbformat_minor": 5
}
