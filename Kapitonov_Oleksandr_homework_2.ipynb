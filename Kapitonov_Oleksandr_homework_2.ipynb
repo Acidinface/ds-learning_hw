{
 "cells": [
  {
   "cell_type": "code",
   "execution_count": null,
   "metadata": {},
   "outputs": [],
   "source": [
    "import numpy as np"
   ]
  },
  {
   "cell_type": "markdown",
   "metadata": {
    "slideshow": {
     "slide_type": "slide"
    }
   },
   "source": [
    "### Дано: одновимірний масив"
   ]
  },
  {
   "cell_type": "code",
   "execution_count": null,
   "metadata": {
    "slideshow": {
     "slide_type": "fragment"
    }
   },
   "outputs": [],
   "source": [
    "arr = np.random.rand(1000)"
   ]
  },
  {
   "cell_type": "markdown",
   "metadata": {
    "slideshow": {
     "slide_type": "fragment"
    }
   },
   "source": [
    "### 1. Завдання: замінити всі елементи цього масиву, які більші за середнє цього масива на це середнє значення."
   ]
  },
  {
   "cell_type": "code",
   "execution_count": null,
   "metadata": {},
   "outputs": [],
   "source": [
    "print('Lets have a look at our array: \\n')\n",
    "print(arr[:21],'\\n')\n",
    "print(\"Mean of array: \",arr.mean(),'\\n')\n",
    "arr_t = arr.copy()"
   ]
  },
  {
   "cell_type": "code",
   "execution_count": null,
   "metadata": {},
   "outputs": [],
   "source": [
    "arr[arr > arr.mean()]=arr.mean()\n",
    "print(arr[:21])"
   ]
  },
  {
   "cell_type": "code",
   "execution_count": null,
   "metadata": {},
   "outputs": [],
   "source": [
    "print('Lets compare orginal values with ones that we created: ')\n",
    "np.where(arr_t-arr==0, 'Unchanged', 'Changed to mean')[:21]"
   ]
  },
  {
   "cell_type": "markdown",
   "metadata": {
    "slideshow": {
     "slide_type": "slide"
    }
   },
   "source": [
    "### 2. Для масиву імплементувати сигмоїдну функцію:"
   ]
  },
  {
   "cell_type": "markdown",
   "metadata": {
    "slideshow": {
     "slide_type": "fragment"
    }
   },
   "source": [
    "$$y = \\frac{1} {1 + e^{-x}}$$"
   ]
  },
  {
   "cell_type": "code",
   "execution_count": null,
   "metadata": {},
   "outputs": [],
   "source": [
    "x = np.random.rand(1000)"
   ]
  },
  {
   "cell_type": "code",
   "execution_count": null,
   "metadata": {},
   "outputs": [],
   "source": [
    "y = 1/(1+np.e**-x)"
   ]
  },
  {
   "cell_type": "code",
   "execution_count": null,
   "metadata": {},
   "outputs": [],
   "source": [
    "print(\"x: \",x[:21],'\\n')\n",
    "print(\"y: \",y[:21])"
   ]
  },
  {
   "cell_type": "markdown",
   "metadata": {
    "slideshow": {
     "slide_type": "slide"
    }
   },
   "source": [
    "### 3. Вирішити завдання про таблицю співробітників використовуючи numpy (вивести на екран інформацію про співробітників, прийнятих на роботу після 2012 року та з ЗП понад 2000; надрукувати можна без форматування)"
   ]
  },
  {
   "cell_type": "code",
   "execution_count": null,
   "metadata": {
    "slideshow": {
     "slide_type": "fragment"
    }
   },
   "outputs": [],
   "source": [
    "workers_table = np.array([\n",
    "    [1, 'B', 1000, 2013],\n",
    "    [2, 'B', 1500, 2014],\n",
    "    [3, 'B', 1800, 2012],\n",
    "    [4, 'A', 2500, 2016],\n",
    "    [5, 'A', 3500, 2017],\n",
    "    [6, 'A', 4500, 2011],\n",
    "], dtype=object)"
   ]
  },
  {
   "cell_type": "code",
   "execution_count": null,
   "metadata": {},
   "outputs": [],
   "source": [
    "print('View of people that work after 2012 and have a salary > 2000: ')\n",
    "workers_table[(workers_table[:,-1]>2012) & (workers_table[:,2]>2000)]"
   ]
  },
  {
   "cell_type": "markdown",
   "metadata": {
    "slideshow": {
     "slide_type": "slide"
    }
   },
   "source": [
    "### 4. У таблиці співробітників з попередньої задачі, додати ще один стовпець, де записати різницю між ЗП співробітника та середньою ЗП усіх співробітників."
   ]
  },
  {
   "cell_type": "code",
   "execution_count": null,
   "metadata": {},
   "outputs": [],
   "source": [
    "dist_of_salary = workers_table[:,2] - workers_table[:,2].mean()\n",
    "print('shape: ',dist_of_salary.shape)\n",
    "\n",
    "# We will use resize because it creates changes 'inplace'(without need to assign to a new varible).\n",
    "\n",
    "dist_of_salary.resize(6,1)\n",
    "print('new shape: ',dist_of_salary.shape)"
   ]
  },
  {
   "cell_type": "code",
   "execution_count": null,
   "metadata": {},
   "outputs": [],
   "source": [
    "updated_workers_table = np.append(workers_table, dist_of_salary, axis=1)"
   ]
  },
  {
   "cell_type": "code",
   "execution_count": null,
   "metadata": {},
   "outputs": [],
   "source": [
    "print('Before: ')\n",
    "workers_table"
   ]
  },
  {
   "cell_type": "code",
   "execution_count": null,
   "metadata": {},
   "outputs": [],
   "source": [
    "print('After: ')\n",
    "updated_workers_table"
   ]
  },
  {
   "cell_type": "markdown",
   "metadata": {
    "slideshow": {
     "slide_type": "slide"
    }
   },
   "source": [
    "### 5. У таблиці співробітників знайти та вивести на екран мінімальний рік прийому на роботу в кожному департаменті."
   ]
  },
  {
   "cell_type": "code",
   "execution_count": null,
   "metadata": {},
   "outputs": [],
   "source": [
    "dep_arr = np.unique(workers_table[:,1])\n",
    "print(dep_arr, ', Length: ',len(dep_arr))"
   ]
  },
  {
   "cell_type": "code",
   "execution_count": null,
   "metadata": {},
   "outputs": [],
   "source": [
    "print('Smallest year in A department:', workers_table[workers_table[:,1]=='A'][:,3].min())\n",
    "print('Smallest year in B department:', workers_table[workers_table[:,1]=='B'][:,3].min())"
   ]
  },
  {
   "cell_type": "code",
   "execution_count": null,
   "metadata": {},
   "outputs": [],
   "source": [
    "def smallest_year_dep(dep:str) -> int:\n",
    "    '''Function returns min year from a given department.'''\n",
    "    dep = dep.upper()\n",
    "    try:\n",
    "        return f'Smallest year in {dep} department: {workers_table[workers_table[:,1]==dep][:,3].min()}'    \n",
    "    except ValueError:\n",
    "        return 'Enter a valid argument!'"
   ]
  },
  {
   "cell_type": "code",
   "execution_count": null,
   "metadata": {},
   "outputs": [],
   "source": [
    "smallest_year_dep('a')"
   ]
  },
  {
   "cell_type": "code",
   "execution_count": null,
   "metadata": {},
   "outputs": [],
   "source": [
    "apply_func = np.vectorize(lambda x: workers_table[workers_table[:,1]==x][:,3].min())\n",
    "print('Departments:', dep_arr, '= Years:', apply_func(dep_arr))"
   ]
  },
  {
   "cell_type": "markdown",
   "metadata": {
    "slideshow": {
     "slide_type": "slide"
    }
   },
   "source": [
    "### Дано таблиця A"
   ]
  },
  {
   "cell_type": "code",
   "execution_count": null,
   "metadata": {
    "slideshow": {
     "slide_type": "fragment"
    }
   },
   "outputs": [],
   "source": [
    "A = np.array([\n",
    "    [2, 5, 8, 56],\n",
    "    [4, 9, 1, 23],\n",
    "    [6, 12, 84, 55]\n",
    "])"
   ]
  },
  {
   "cell_type": "markdown",
   "metadata": {
    "slideshow": {
     "slide_type": "fragment"
    }
   },
   "source": [
    "### 6. Завдання: нормалізувати колонки (зробити так, щоб довжина векторів у колонках була 1)"
   ]
  },
  {
   "cell_type": "code",
   "execution_count": null,
   "metadata": {},
   "outputs": [],
   "source": [
    "(A*100/sum(A))/100"
   ]
  }
 ],
 "metadata": {
  "celltoolbar": "Slideshow",
  "kernelspec": {
   "display_name": "Python 3 (ipykernel)",
   "language": "python",
   "name": "python3"
  },
  "language_info": {
   "codemirror_mode": {
    "name": "ipython",
    "version": 3
   },
   "file_extension": ".py",
   "mimetype": "text/x-python",
   "name": "python",
   "nbconvert_exporter": "python",
   "pygments_lexer": "ipython3",
   "version": "3.9.12"
  },
  "toc": {
   "base_numbering": 1,
   "nav_menu": {},
   "number_sections": true,
   "sideBar": true,
   "skip_h1_title": false,
   "title_cell": "Table of Contents",
   "title_sidebar": "Contents",
   "toc_cell": false,
   "toc_position": {},
   "toc_section_display": true,
   "toc_window_display": false
  },
  "varInspector": {
   "cols": {
    "lenName": 16,
    "lenType": 16,
    "lenVar": 40
   },
   "kernels_config": {
    "python": {
     "delete_cmd_postfix": "",
     "delete_cmd_prefix": "del ",
     "library": "var_list.py",
     "varRefreshCmd": "print(var_dic_list())"
    },
    "r": {
     "delete_cmd_postfix": ") ",
     "delete_cmd_prefix": "rm(",
     "library": "var_list.r",
     "varRefreshCmd": "cat(var_dic_list()) "
    }
   },
   "position": {
    "height": "346.667px",
    "left": "874.667px",
    "right": "20px",
    "top": "120px",
    "width": "340.667px"
   },
   "types_to_exclude": [
    "module",
    "function",
    "builtin_function_or_method",
    "instance",
    "_Feature"
   ],
   "window_display": false
  }
 },
 "nbformat": 4,
 "nbformat_minor": 2
}
